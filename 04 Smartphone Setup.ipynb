{
 "cells": [
  {
   "cell_type": "markdown",
   "metadata": {},
   "source": [
    "# Smartphone Garage Remote | 04 | Smartphone Setup\n",
    "At a basic level, the system can be operated by sending a POST command to the macro we designed. One method would be to create a webpage hosted on the Raspberry Pi with a button that will activate our macro. However, this is inelegant. Instead, we can use a series of Android software to perform this task.\n",
    "\n",
    "## Tasker task\n",
    "The primary piece of software is the popular app [Tasker](https://play.google.com/store/apps/details?id=net.dinglisch.android.taskerm&hl=en). Tasker is a fantasic automation and control app that lets one accomplish essentially any task with their Android smartphone. I already use this app for many of my own personal tasks, so it was easy to add this new use case.\n",
    "\n",
    "\"Tasks\" are a series of actions that can be lauched by any number of means. Tasker includes its own means as \"profiles\", but we will be launching our task with a separate method, discussed in the next section.\n",
    "\n",
    "Our task could be as simple as sending an HTTP POST command to the approriate REST route, but we can include a little more logic to make our lives easier. The pseudocode for our task is written below,\n",
    "```\n",
    "If, %Home = 1\n",
    "    HTTP POST → username:password@INTERNALip:port/macros/garage\n",
    "    FLASH → \"Open sesame!\"\n",
    "\n",
    "Else If, %NearHome = 1\n",
    "    HTTP POST → username:password@EXTERNALip:port/macros/garage\n",
    "    FLASH → \"Open sesame!\"\n",
    "    \n",
    "Else,\n",
    "    FLASH → \"Out of range\"\n",
    "```\n",
    "Essentially, this task first tries to control our remote locally, then falls back to the web, then returns a failure message if neither of the previous go through.\n",
    "\n",
    "### Location context\n",
    "The variable `%Home` is set to `1` by Tasker (through a seprate profile) if we are connected to our local home network. If we are not connected to our local network but are still near home, the variable `%NearHome` will be set to `1`. This allows us to control the garage through the web by using the external IP address of our house and the port forwarding setup we created. This `%NearHome` state is determined through a Tasker geofencing plugin called [AutoLocation](https://play.google.com/store/apps/details?id=com.joaomgcd.autolocation&hl=en).\n",
    "\n",
    "The reason why we want be be near home when using our external IP solution is to prevent accidental button presses when far from home. If we are away from the house, accidentally pressing the button would open the garage, or close the garage if someone else is trying to use it. Not being able to see what is happening is uncomfortable, so preventing accidental presses when away from home is ideal.\n",
    "\n",
    "## Button configuration\n",
    "Activating our Tasker task should be quick and easy. Fortunately, the latest versions of Android allow users to add their own custom buttons to the Quick Settings dropdown. This can be easily accomplished with the app [Custom Quick Settings](https://play.google.com/store/apps/details?id=com.quinny898.app.customquicksettings&hl=en). This app ties into Tasker (among other sources), allowing users to activate tasks with the press of a button. \n",
    "\n",
    "![Final Product](img/smartphone_buttons.png)\n",
    "\n",
    "At the end of all this tinkering, we get something that works seamlessly, every time!"
   ]
  }
 ],
 "metadata": {
  "anaconda-cloud": {},
  "kernelspec": {
   "display_name": "Python [conda root]",
   "language": "python",
   "name": "conda-root-py"
  },
  "language_info": {
   "codemirror_mode": {
    "name": "ipython",
    "version": 3
   },
   "file_extension": ".py",
   "mimetype": "text/x-python",
   "name": "python",
   "nbconvert_exporter": "python",
   "pygments_lexer": "ipython3",
   "version": "3.5.2"
  }
 },
 "nbformat": 4,
 "nbformat_minor": 1
}
