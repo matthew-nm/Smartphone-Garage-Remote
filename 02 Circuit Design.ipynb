{
 "cells": [
  {
   "cell_type": "markdown",
   "metadata": {},
   "source": [
    "# Smartphone Garage Remote | 02 | Circuit Design\n",
    "\n",
    "## Simple Configuration and its Shortcomings\n",
    "\n",
    "## Switching Circuit Configuration\n",
    "\n",
    "## Circuit Calculations"
   ]
  }
 ],
 "metadata": {
  "kernelspec": {
   "display_name": "Python [conda root]",
   "language": "python",
   "name": "conda-root-py"
  },
  "language_info": {
   "codemirror_mode": {
    "name": "ipython",
    "version": 3
   },
   "file_extension": ".py",
   "mimetype": "text/x-python",
   "name": "python",
   "nbconvert_exporter": "python",
   "pygments_lexer": "ipython3",
   "version": "3.5.2"
  }
 },
 "nbformat": 4,
 "nbformat_minor": 1
}
