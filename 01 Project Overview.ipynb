{
 "cells": [
  {
   "cell_type": "markdown",
   "metadata": {},
   "source": [
    "# Smartphone Garage Remote | 01 | Project Overview\n",
    "\n",
    "## Purpose\n",
    "I love microcontrollers and wanted to find a good excuse to play with one! This project was born from a particular annoyance I encountered on a daily basis, for which I then decided to create a solution.\n",
    "\n",
    "My current living situation does not provide space for parking my car in the garage, and so I must find parking on the street nearby. My walk up to the house then takes me to the garage door (on the backside of the house), but without my garage remote on hand, I have no way of getting in. I must take a longer route around to the front door. Conversely, I cannot leave out the garage door on foot since I have no way of closing the door behind me, unless I try to close the door while inside and run under it like Indiana Jones.\n",
    "\n",
    "Wouldn't it be great if I could control the garage door with something I always have on hand, such as my smartphone?!\n",
    "\n",
    "![Final Product](img/smartphone_buttons.png)\n",
    "<html><center><i>Sneak peak at the final product! <br/> Android allows users to create their own Quick Settings buttons within the notification shade.</i></center></html>\n",
    "\n",
    "## Functionality Chain\n",
    "With our purpose established, we can now look at how the intended functionality will be accomplished and what hardware will be needed.\n",
    "\n",
    "The chain begins with my smartphone, which happens to be a Nexus 5 running Android 6.0.1. The specifics of setting up my phone will be discussed with greater detail in notebook 04, but the end product will be a *POST* command via the Hypertext Transfer Protocol (HTTP).\n",
    "\n",
    "![Functionality Chain](img/functionality_chain.png)\n",
    "\n",
    "The next piece of hardware is the network that will connect my smartphone command to the rest of my system. If I am within range of my local wireless home network, then the home router will take care of this networking task. If I am out of range of the local network, then the signal can transfer through the world-wide-web before reaching my home router.\n",
    "\n",
    "The signal will then be sent to the microcontroller, which will be physically connected to a garage door remote. The remote will be cycled on and off, thus triggering my garage door to open. The remote signal is capable of penetrating through multiple walls, making it possible to place the microcontroller and remote anywhere within the house without disrupting its functionality.\n",
    "\n",
    "## Choosing the Raspberry Pi 3 Microcontroller\n",
    "There are any microcontrollers available for hobbyists to choose from, but the use of the Raspberry Pi 3 was a somewhat easy choice to make. The RPi 3 is less of a microcontroller and more of an entire Linux computer in a small  package. This includes built-in WiFi connectivity and a full Linux distribution, *Raspbian*. \n",
    "\n",
    "Given my comfort with Linux, I knew I could jump right in with this controller and get working. Furthermore, Linux (and other Unix-based systems like macOS) can easily worth together via remote terminal shells (SSH) and the remote mounting of filesystems (SSHFS). Each of these makes working with the Pi via another Linux machine very quick and easy."
   ]
  }
 ],
 "metadata": {
  "anaconda-cloud": {},
  "kernelspec": {
   "display_name": "Python [conda root]",
   "language": "python",
   "name": "conda-root-py"
  },
  "language_info": {
   "codemirror_mode": {
    "name": "ipython",
    "version": 3
   },
   "file_extension": ".py",
   "mimetype": "text/x-python",
   "name": "python",
   "nbconvert_exporter": "python",
   "pygments_lexer": "ipython3",
   "version": "3.5.2"
  }
 },
 "nbformat": 4,
 "nbformat_minor": 1
}
